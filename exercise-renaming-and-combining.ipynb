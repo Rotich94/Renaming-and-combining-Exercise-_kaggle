{
 "cells": [
  {
   "cell_type": "markdown",
   "id": "c114d823",
   "metadata": {
    "papermill": {
     "duration": 0.006234,
     "end_time": "2023-04-20T11:26:49.736293",
     "exception": false,
     "start_time": "2023-04-20T11:26:49.730059",
     "status": "completed"
    },
    "tags": []
   },
   "source": [
    "**This notebook is an exercise in the [Pandas](https://www.kaggle.com/learn/pandas) course.  You can reference the tutorial at [this link](https://www.kaggle.com/residentmario/renaming-and-combining).**\n",
    "\n",
    "---\n"
   ]
  },
  {
   "cell_type": "markdown",
   "id": "ae3edb2a",
   "metadata": {
    "papermill": {
     "duration": 0.004972,
     "end_time": "2023-04-20T11:26:49.746888",
     "exception": false,
     "start_time": "2023-04-20T11:26:49.741916",
     "status": "completed"
    },
    "tags": []
   },
   "source": [
    "# Introduction\n",
    "\n",
    "Run the following cell to load your data and some utility functions."
   ]
  },
  {
   "cell_type": "code",
   "execution_count": 1,
   "id": "9ed6b1bd",
   "metadata": {
    "execution": {
     "iopub.execute_input": "2023-04-20T11:26:49.759903Z",
     "iopub.status.busy": "2023-04-20T11:26:49.759103Z",
     "iopub.status.idle": "2023-04-20T11:26:53.905728Z",
     "shell.execute_reply": "2023-04-20T11:26:53.904292Z"
    },
    "papermill": {
     "duration": 4.157067,
     "end_time": "2023-04-20T11:26:53.909218",
     "exception": false,
     "start_time": "2023-04-20T11:26:49.752151",
     "status": "completed"
    },
    "tags": []
   },
   "outputs": [
    {
     "name": "stdout",
     "output_type": "stream",
     "text": [
      "Setup complete.\n"
     ]
    }
   ],
   "source": [
    "import pandas as pd\n",
    "\n",
    "reviews = pd.read_csv(\"../input/wine-reviews/winemag-data-130k-v2.csv\", index_col=0)\n",
    "\n",
    "from learntools.core import binder; binder.bind(globals())\n",
    "from learntools.pandas.renaming_and_combining import *\n",
    "print(\"Setup complete.\")"
   ]
  },
  {
   "cell_type": "markdown",
   "id": "86a5d732",
   "metadata": {
    "papermill": {
     "duration": 0.005503,
     "end_time": "2023-04-20T11:26:53.920920",
     "exception": false,
     "start_time": "2023-04-20T11:26:53.915417",
     "status": "completed"
    },
    "tags": []
   },
   "source": [
    "# Exercises\n",
    "\n",
    "View the first several lines of your data by running the cell below:"
   ]
  },
  {
   "cell_type": "code",
   "execution_count": 2,
   "id": "3e0edc35",
   "metadata": {
    "execution": {
     "iopub.execute_input": "2023-04-20T11:26:53.935081Z",
     "iopub.status.busy": "2023-04-20T11:26:53.933911Z",
     "iopub.status.idle": "2023-04-20T11:26:53.968243Z",
     "shell.execute_reply": "2023-04-20T11:26:53.967015Z"
    },
    "papermill": {
     "duration": 0.045064,
     "end_time": "2023-04-20T11:26:53.971533",
     "exception": false,
     "start_time": "2023-04-20T11:26:53.926469",
     "status": "completed"
    },
    "tags": []
   },
   "outputs": [
    {
     "data": {
      "text/html": [
       "<div>\n",
       "<style scoped>\n",
       "    .dataframe tbody tr th:only-of-type {\n",
       "        vertical-align: middle;\n",
       "    }\n",
       "\n",
       "    .dataframe tbody tr th {\n",
       "        vertical-align: top;\n",
       "    }\n",
       "\n",
       "    .dataframe thead th {\n",
       "        text-align: right;\n",
       "    }\n",
       "</style>\n",
       "<table border=\"1\" class=\"dataframe\">\n",
       "  <thead>\n",
       "    <tr style=\"text-align: right;\">\n",
       "      <th></th>\n",
       "      <th>country</th>\n",
       "      <th>description</th>\n",
       "      <th>designation</th>\n",
       "      <th>points</th>\n",
       "      <th>price</th>\n",
       "      <th>province</th>\n",
       "      <th>region_1</th>\n",
       "      <th>region_2</th>\n",
       "      <th>taster_name</th>\n",
       "      <th>taster_twitter_handle</th>\n",
       "      <th>title</th>\n",
       "      <th>variety</th>\n",
       "      <th>winery</th>\n",
       "    </tr>\n",
       "  </thead>\n",
       "  <tbody>\n",
       "    <tr>\n",
       "      <th>0</th>\n",
       "      <td>Italy</td>\n",
       "      <td>Aromas include tropical fruit, broom, brimston...</td>\n",
       "      <td>Vulkà Bianco</td>\n",
       "      <td>87</td>\n",
       "      <td>NaN</td>\n",
       "      <td>Sicily &amp; Sardinia</td>\n",
       "      <td>Etna</td>\n",
       "      <td>NaN</td>\n",
       "      <td>Kerin O’Keefe</td>\n",
       "      <td>@kerinokeefe</td>\n",
       "      <td>Nicosia 2013 Vulkà Bianco  (Etna)</td>\n",
       "      <td>White Blend</td>\n",
       "      <td>Nicosia</td>\n",
       "    </tr>\n",
       "    <tr>\n",
       "      <th>1</th>\n",
       "      <td>Portugal</td>\n",
       "      <td>This is ripe and fruity, a wine that is smooth...</td>\n",
       "      <td>Avidagos</td>\n",
       "      <td>87</td>\n",
       "      <td>15.0</td>\n",
       "      <td>Douro</td>\n",
       "      <td>NaN</td>\n",
       "      <td>NaN</td>\n",
       "      <td>Roger Voss</td>\n",
       "      <td>@vossroger</td>\n",
       "      <td>Quinta dos Avidagos 2011 Avidagos Red (Douro)</td>\n",
       "      <td>Portuguese Red</td>\n",
       "      <td>Quinta dos Avidagos</td>\n",
       "    </tr>\n",
       "    <tr>\n",
       "      <th>2</th>\n",
       "      <td>US</td>\n",
       "      <td>Tart and snappy, the flavors of lime flesh and...</td>\n",
       "      <td>NaN</td>\n",
       "      <td>87</td>\n",
       "      <td>14.0</td>\n",
       "      <td>Oregon</td>\n",
       "      <td>Willamette Valley</td>\n",
       "      <td>Willamette Valley</td>\n",
       "      <td>Paul Gregutt</td>\n",
       "      <td>@paulgwine</td>\n",
       "      <td>Rainstorm 2013 Pinot Gris (Willamette Valley)</td>\n",
       "      <td>Pinot Gris</td>\n",
       "      <td>Rainstorm</td>\n",
       "    </tr>\n",
       "    <tr>\n",
       "      <th>3</th>\n",
       "      <td>US</td>\n",
       "      <td>Pineapple rind, lemon pith and orange blossom ...</td>\n",
       "      <td>Reserve Late Harvest</td>\n",
       "      <td>87</td>\n",
       "      <td>13.0</td>\n",
       "      <td>Michigan</td>\n",
       "      <td>Lake Michigan Shore</td>\n",
       "      <td>NaN</td>\n",
       "      <td>Alexander Peartree</td>\n",
       "      <td>NaN</td>\n",
       "      <td>St. Julian 2013 Reserve Late Harvest Riesling ...</td>\n",
       "      <td>Riesling</td>\n",
       "      <td>St. Julian</td>\n",
       "    </tr>\n",
       "    <tr>\n",
       "      <th>4</th>\n",
       "      <td>US</td>\n",
       "      <td>Much like the regular bottling from 2012, this...</td>\n",
       "      <td>Vintner's Reserve Wild Child Block</td>\n",
       "      <td>87</td>\n",
       "      <td>65.0</td>\n",
       "      <td>Oregon</td>\n",
       "      <td>Willamette Valley</td>\n",
       "      <td>Willamette Valley</td>\n",
       "      <td>Paul Gregutt</td>\n",
       "      <td>@paulgwine</td>\n",
       "      <td>Sweet Cheeks 2012 Vintner's Reserve Wild Child...</td>\n",
       "      <td>Pinot Noir</td>\n",
       "      <td>Sweet Cheeks</td>\n",
       "    </tr>\n",
       "  </tbody>\n",
       "</table>\n",
       "</div>"
      ],
      "text/plain": [
       "    country                                        description  \\\n",
       "0     Italy  Aromas include tropical fruit, broom, brimston...   \n",
       "1  Portugal  This is ripe and fruity, a wine that is smooth...   \n",
       "2        US  Tart and snappy, the flavors of lime flesh and...   \n",
       "3        US  Pineapple rind, lemon pith and orange blossom ...   \n",
       "4        US  Much like the regular bottling from 2012, this...   \n",
       "\n",
       "                          designation  points  price           province  \\\n",
       "0                        Vulkà Bianco      87    NaN  Sicily & Sardinia   \n",
       "1                            Avidagos      87   15.0              Douro   \n",
       "2                                 NaN      87   14.0             Oregon   \n",
       "3                Reserve Late Harvest      87   13.0           Michigan   \n",
       "4  Vintner's Reserve Wild Child Block      87   65.0             Oregon   \n",
       "\n",
       "              region_1           region_2         taster_name  \\\n",
       "0                 Etna                NaN       Kerin O’Keefe   \n",
       "1                  NaN                NaN          Roger Voss   \n",
       "2    Willamette Valley  Willamette Valley        Paul Gregutt   \n",
       "3  Lake Michigan Shore                NaN  Alexander Peartree   \n",
       "4    Willamette Valley  Willamette Valley        Paul Gregutt   \n",
       "\n",
       "  taster_twitter_handle                                              title  \\\n",
       "0          @kerinokeefe                  Nicosia 2013 Vulkà Bianco  (Etna)   \n",
       "1            @vossroger      Quinta dos Avidagos 2011 Avidagos Red (Douro)   \n",
       "2           @paulgwine       Rainstorm 2013 Pinot Gris (Willamette Valley)   \n",
       "3                   NaN  St. Julian 2013 Reserve Late Harvest Riesling ...   \n",
       "4           @paulgwine   Sweet Cheeks 2012 Vintner's Reserve Wild Child...   \n",
       "\n",
       "          variety               winery  \n",
       "0     White Blend              Nicosia  \n",
       "1  Portuguese Red  Quinta dos Avidagos  \n",
       "2      Pinot Gris            Rainstorm  \n",
       "3        Riesling           St. Julian  \n",
       "4      Pinot Noir         Sweet Cheeks  "
      ]
     },
     "execution_count": 2,
     "metadata": {},
     "output_type": "execute_result"
    }
   ],
   "source": [
    "reviews.head()"
   ]
  },
  {
   "cell_type": "markdown",
   "id": "c69cb91c",
   "metadata": {
    "papermill": {
     "duration": 0.005409,
     "end_time": "2023-04-20T11:26:53.982916",
     "exception": false,
     "start_time": "2023-04-20T11:26:53.977507",
     "status": "completed"
    },
    "tags": []
   },
   "source": [
    "## 1.\n",
    "`region_1` and `region_2` are pretty uninformative names for locale columns in the dataset. Create a copy of `reviews` with these columns renamed to `region` and `locale`, respectively."
   ]
  },
  {
   "cell_type": "code",
   "execution_count": 3,
   "id": "c962ac65",
   "metadata": {
    "execution": {
     "iopub.execute_input": "2023-04-20T11:26:53.997112Z",
     "iopub.status.busy": "2023-04-20T11:26:53.996549Z",
     "iopub.status.idle": "2023-04-20T11:26:54.034254Z",
     "shell.execute_reply": "2023-04-20T11:26:54.032878Z"
    },
    "papermill": {
     "duration": 0.048036,
     "end_time": "2023-04-20T11:26:54.036587",
     "exception": false,
     "start_time": "2023-04-20T11:26:53.988551",
     "status": "completed"
    },
    "tags": []
   },
   "outputs": [
    {
     "data": {
      "application/javascript": [
       "parent.postMessage({\"jupyterEvent\": \"custom.exercise_interaction\", \"data\": {\"outcomeType\": 1, \"valueTowardsCompletion\": 0.25, \"interactionType\": 1, \"questionType\": 1, \"questionId\": \"1_RenameCols\", \"learnToolsVersion\": \"0.3.4\", \"failureMessage\": \"\", \"exceptionClass\": \"\", \"trace\": \"\"}}, \"*\")"
      ],
      "text/plain": [
       "<IPython.core.display.Javascript object>"
      ]
     },
     "metadata": {},
     "output_type": "display_data"
    },
    {
     "data": {
      "text/markdown": [
       "<span style=\"color:#33cc33\">Correct</span>"
      ],
      "text/plain": [
       "Correct"
      ]
     },
     "metadata": {},
     "output_type": "display_data"
    }
   ],
   "source": [
    "# Your code here\n",
    "renamed = reviews.rename(columns={'region_1':'region','region_2':'locale'})\n",
    "\n",
    "# Check your answer\n",
    "q1.check()"
   ]
  },
  {
   "cell_type": "code",
   "execution_count": 4,
   "id": "0fc266cd",
   "metadata": {
    "execution": {
     "iopub.execute_input": "2023-04-20T11:26:54.051465Z",
     "iopub.status.busy": "2023-04-20T11:26:54.050229Z",
     "iopub.status.idle": "2023-04-20T11:26:54.055452Z",
     "shell.execute_reply": "2023-04-20T11:26:54.054322Z"
    },
    "papermill": {
     "duration": 0.015309,
     "end_time": "2023-04-20T11:26:54.057989",
     "exception": false,
     "start_time": "2023-04-20T11:26:54.042680",
     "status": "completed"
    },
    "tags": []
   },
   "outputs": [],
   "source": [
    "#q1.hint()\n",
    "#q1.solution()"
   ]
  },
  {
   "cell_type": "markdown",
   "id": "1aef1b21",
   "metadata": {
    "papermill": {
     "duration": 0.005908,
     "end_time": "2023-04-20T11:26:54.070000",
     "exception": false,
     "start_time": "2023-04-20T11:26:54.064092",
     "status": "completed"
    },
    "tags": []
   },
   "source": [
    "## 2.\n",
    "Set the index name in the dataset to `wines`."
   ]
  },
  {
   "cell_type": "code",
   "execution_count": 5,
   "id": "eb3c9e0c",
   "metadata": {
    "execution": {
     "iopub.execute_input": "2023-04-20T11:26:54.084482Z",
     "iopub.status.busy": "2023-04-20T11:26:54.083766Z",
     "iopub.status.idle": "2023-04-20T11:26:54.119558Z",
     "shell.execute_reply": "2023-04-20T11:26:54.118099Z"
    },
    "papermill": {
     "duration": 0.046555,
     "end_time": "2023-04-20T11:26:54.122604",
     "exception": false,
     "start_time": "2023-04-20T11:26:54.076049",
     "status": "completed"
    },
    "tags": []
   },
   "outputs": [
    {
     "data": {
      "application/javascript": [
       "parent.postMessage({\"jupyterEvent\": \"custom.exercise_interaction\", \"data\": {\"outcomeType\": 1, \"valueTowardsCompletion\": 0.25, \"interactionType\": 1, \"questionType\": 1, \"questionId\": \"2_RenameIndex\", \"learnToolsVersion\": \"0.3.4\", \"failureMessage\": \"\", \"exceptionClass\": \"\", \"trace\": \"\"}}, \"*\")"
      ],
      "text/plain": [
       "<IPython.core.display.Javascript object>"
      ]
     },
     "metadata": {},
     "output_type": "display_data"
    },
    {
     "data": {
      "text/markdown": [
       "<span style=\"color:#33cc33\">Correct</span>"
      ],
      "text/plain": [
       "Correct"
      ]
     },
     "metadata": {},
     "output_type": "display_data"
    }
   ],
   "source": [
    "reindexed = reviews.rename_axis(\"wines\",axis='rows')\n",
    "\n",
    "# Check your answer\n",
    "q2.check()"
   ]
  },
  {
   "cell_type": "code",
   "execution_count": 6,
   "id": "ef034dac",
   "metadata": {
    "execution": {
     "iopub.execute_input": "2023-04-20T11:26:54.136996Z",
     "iopub.status.busy": "2023-04-20T11:26:54.136575Z",
     "iopub.status.idle": "2023-04-20T11:26:54.140612Z",
     "shell.execute_reply": "2023-04-20T11:26:54.139719Z"
    },
    "papermill": {
     "duration": 0.014148,
     "end_time": "2023-04-20T11:26:54.142897",
     "exception": false,
     "start_time": "2023-04-20T11:26:54.128749",
     "status": "completed"
    },
    "tags": []
   },
   "outputs": [],
   "source": [
    "#q2.hint()\n",
    "#q2.solution()"
   ]
  },
  {
   "cell_type": "markdown",
   "id": "f725c614",
   "metadata": {
    "papermill": {
     "duration": 0.005844,
     "end_time": "2023-04-20T11:26:54.155999",
     "exception": false,
     "start_time": "2023-04-20T11:26:54.150155",
     "status": "completed"
    },
    "tags": []
   },
   "source": [
    "## 3.\n",
    "The [Things on Reddit](https://www.kaggle.com/residentmario/things-on-reddit/data) dataset includes product links from a selection of top-ranked forums (\"subreddits\") on reddit.com. Run the cell below to load a dataframe of products mentioned on the */r/gaming* subreddit and another dataframe for products mentioned on the *r//movies* subreddit."
   ]
  },
  {
   "cell_type": "code",
   "execution_count": 7,
   "id": "d30eea90",
   "metadata": {
    "execution": {
     "iopub.execute_input": "2023-04-20T11:26:54.171078Z",
     "iopub.status.busy": "2023-04-20T11:26:54.169591Z",
     "iopub.status.idle": "2023-04-20T11:26:54.186681Z",
     "shell.execute_reply": "2023-04-20T11:26:54.185343Z"
    },
    "papermill": {
     "duration": 0.027445,
     "end_time": "2023-04-20T11:26:54.189561",
     "exception": false,
     "start_time": "2023-04-20T11:26:54.162116",
     "status": "completed"
    },
    "tags": []
   },
   "outputs": [],
   "source": [
    "gaming_products = pd.read_csv(\"../input/things-on-reddit/top-things/top-things/reddits/g/gaming.csv\")\n",
    "gaming_products['subreddit'] = \"r/gaming\"\n",
    "movie_products = pd.read_csv(\"../input/things-on-reddit/top-things/top-things/reddits/m/movies.csv\")\n",
    "movie_products['subreddit'] = \"r/movies\""
   ]
  },
  {
   "cell_type": "markdown",
   "id": "63ccface",
   "metadata": {
    "papermill": {
     "duration": 0.006038,
     "end_time": "2023-04-20T11:26:54.201936",
     "exception": false,
     "start_time": "2023-04-20T11:26:54.195898",
     "status": "completed"
    },
    "tags": []
   },
   "source": [
    "Create a `DataFrame` of products mentioned on *either* subreddit."
   ]
  },
  {
   "cell_type": "code",
   "execution_count": 8,
   "id": "a209e075",
   "metadata": {
    "execution": {
     "iopub.execute_input": "2023-04-20T11:26:54.217262Z",
     "iopub.status.busy": "2023-04-20T11:26:54.216744Z",
     "iopub.status.idle": "2023-04-20T11:26:54.234961Z",
     "shell.execute_reply": "2023-04-20T11:26:54.233626Z"
    },
    "papermill": {
     "duration": 0.029205,
     "end_time": "2023-04-20T11:26:54.237418",
     "exception": false,
     "start_time": "2023-04-20T11:26:54.208213",
     "status": "completed"
    },
    "tags": []
   },
   "outputs": [
    {
     "data": {
      "application/javascript": [
       "parent.postMessage({\"jupyterEvent\": \"custom.exercise_interaction\", \"data\": {\"outcomeType\": 1, \"valueTowardsCompletion\": 0.25, \"interactionType\": 1, \"questionType\": 2, \"questionId\": \"3_ConcatReddit\", \"learnToolsVersion\": \"0.3.4\", \"failureMessage\": \"\", \"exceptionClass\": \"\", \"trace\": \"\"}}, \"*\")"
      ],
      "text/plain": [
       "<IPython.core.display.Javascript object>"
      ]
     },
     "metadata": {},
     "output_type": "display_data"
    },
    {
     "data": {
      "text/markdown": [
       "<span style=\"color:#33cc33\">Correct</span>"
      ],
      "text/plain": [
       "Correct"
      ]
     },
     "metadata": {},
     "output_type": "display_data"
    }
   ],
   "source": [
    "combined_products = pd.concat([gaming_products,movie_products])\n",
    "\n",
    "# Check your answer\n",
    "q3.check()"
   ]
  },
  {
   "cell_type": "code",
   "execution_count": 9,
   "id": "4e2f79e4",
   "metadata": {
    "execution": {
     "iopub.execute_input": "2023-04-20T11:26:54.252292Z",
     "iopub.status.busy": "2023-04-20T11:26:54.251848Z",
     "iopub.status.idle": "2023-04-20T11:26:54.256076Z",
     "shell.execute_reply": "2023-04-20T11:26:54.255159Z"
    },
    "papermill": {
     "duration": 0.014439,
     "end_time": "2023-04-20T11:26:54.258371",
     "exception": false,
     "start_time": "2023-04-20T11:26:54.243932",
     "status": "completed"
    },
    "tags": []
   },
   "outputs": [],
   "source": [
    "#q3.hint()\n",
    "#q3.solution()"
   ]
  },
  {
   "cell_type": "markdown",
   "id": "d5ebe8f2",
   "metadata": {
    "papermill": {
     "duration": 0.00612,
     "end_time": "2023-04-20T11:26:54.271247",
     "exception": false,
     "start_time": "2023-04-20T11:26:54.265127",
     "status": "completed"
    },
    "tags": []
   },
   "source": [
    "## 4.\n",
    "The [Powerlifting Database](https://www.kaggle.com/open-powerlifting/powerlifting-database) dataset on Kaggle includes one CSV table for powerlifting meets and a separate one for powerlifting competitors. Run the cell below to load these datasets into dataframes:"
   ]
  },
  {
   "cell_type": "code",
   "execution_count": 10,
   "id": "2aa60d83",
   "metadata": {
    "execution": {
     "iopub.execute_input": "2023-04-20T11:26:54.285996Z",
     "iopub.status.busy": "2023-04-20T11:26:54.285512Z",
     "iopub.status.idle": "2023-04-20T11:26:55.066503Z",
     "shell.execute_reply": "2023-04-20T11:26:55.064903Z"
    },
    "papermill": {
     "duration": 0.791885,
     "end_time": "2023-04-20T11:26:55.069574",
     "exception": false,
     "start_time": "2023-04-20T11:26:54.277689",
     "status": "completed"
    },
    "tags": []
   },
   "outputs": [],
   "source": [
    "powerlifting_meets = pd.read_csv(\"../input/powerlifting-database/meets.csv\")\n",
    "powerlifting_competitors = pd.read_csv(\"../input/powerlifting-database/openpowerlifting.csv\")"
   ]
  },
  {
   "cell_type": "markdown",
   "id": "b3ac8bdd",
   "metadata": {
    "papermill": {
     "duration": 0.006579,
     "end_time": "2023-04-20T11:26:55.083416",
     "exception": false,
     "start_time": "2023-04-20T11:26:55.076837",
     "status": "completed"
    },
    "tags": []
   },
   "source": [
    "Both tables include references to a `MeetID`, a unique key for each meet (competition) included in the database. Using this, generate a dataset combining the two tables into one."
   ]
  },
  {
   "cell_type": "code",
   "execution_count": 11,
   "id": "bd883555",
   "metadata": {
    "execution": {
     "iopub.execute_input": "2023-04-20T11:26:55.099528Z",
     "iopub.status.busy": "2023-04-20T11:26:55.099093Z",
     "iopub.status.idle": "2023-04-20T11:26:56.180253Z",
     "shell.execute_reply": "2023-04-20T11:26:56.178754Z"
    },
    "papermill": {
     "duration": 1.092408,
     "end_time": "2023-04-20T11:26:56.183113",
     "exception": false,
     "start_time": "2023-04-20T11:26:55.090705",
     "status": "completed"
    },
    "tags": []
   },
   "outputs": [
    {
     "data": {
      "application/javascript": [
       "parent.postMessage({\"jupyterEvent\": \"custom.exercise_interaction\", \"data\": {\"outcomeType\": 1, \"valueTowardsCompletion\": 0.25, \"interactionType\": 1, \"questionType\": 2, \"questionId\": \"4_JoinLifting\", \"learnToolsVersion\": \"0.3.4\", \"failureMessage\": \"\", \"exceptionClass\": \"\", \"trace\": \"\"}}, \"*\")"
      ],
      "text/plain": [
       "<IPython.core.display.Javascript object>"
      ]
     },
     "metadata": {},
     "output_type": "display_data"
    },
    {
     "data": {
      "text/markdown": [
       "<span style=\"color:#33cc33\">Correct</span>"
      ],
      "text/plain": [
       "Correct"
      ]
     },
     "metadata": {},
     "output_type": "display_data"
    }
   ],
   "source": [
    "left=powerlifting_meets.set_index(['MeetID'])\n",
    "right=powerlifting_competitors.set_index(['MeetID'])\n",
    "powerlifting_combined = left.join(right,lsuffix='_meets',rsuffix='_competitors')\n",
    "\n",
    "# Check your answer\n",
    "q4.check()"
   ]
  },
  {
   "cell_type": "code",
   "execution_count": 12,
   "id": "17bcbf6c",
   "metadata": {
    "execution": {
     "iopub.execute_input": "2023-04-20T11:26:56.199392Z",
     "iopub.status.busy": "2023-04-20T11:26:56.198973Z",
     "iopub.status.idle": "2023-04-20T11:26:56.208944Z",
     "shell.execute_reply": "2023-04-20T11:26:56.207623Z"
    },
    "papermill": {
     "duration": 0.021394,
     "end_time": "2023-04-20T11:26:56.211351",
     "exception": false,
     "start_time": "2023-04-20T11:26:56.189957",
     "status": "completed"
    },
    "tags": []
   },
   "outputs": [
    {
     "data": {
      "application/javascript": [
       "parent.postMessage({\"jupyterEvent\": \"custom.exercise_interaction\", \"data\": {\"interactionType\": 3, \"questionType\": 2, \"questionId\": \"4_JoinLifting\", \"learnToolsVersion\": \"0.3.4\", \"valueTowardsCompletion\": 0.0, \"failureMessage\": \"\", \"exceptionClass\": \"\", \"trace\": \"\", \"outcomeType\": 4}}, \"*\")"
      ],
      "text/plain": [
       "<IPython.core.display.Javascript object>"
      ]
     },
     "metadata": {},
     "output_type": "display_data"
    },
    {
     "data": {
      "text/markdown": [
       "<span style=\"color:#33cc99\">Solution:</span> \n",
       "```python\n",
       "powerlifting_combined = powerlifting_meets.set_index(\"MeetID\").join(powerlifting_competitors.set_index(\"MeetID\"))\n",
       "```"
      ],
      "text/plain": [
       "Solution: \n",
       "```python\n",
       "powerlifting_combined = powerlifting_meets.set_index(\"MeetID\").join(powerlifting_competitors.set_index(\"MeetID\"))\n",
       "```"
      ]
     },
     "metadata": {},
     "output_type": "display_data"
    }
   ],
   "source": [
    "#q4.hint()\n",
    "q4.solution()"
   ]
  },
  {
   "cell_type": "markdown",
   "id": "a91248cb",
   "metadata": {
    "papermill": {
     "duration": 0.006814,
     "end_time": "2023-04-20T11:26:56.225158",
     "exception": false,
     "start_time": "2023-04-20T11:26:56.218344",
     "status": "completed"
    },
    "tags": []
   },
   "source": [
    "# Congratulations!\n",
    "\n",
    "You've finished the Pandas micro-course.  Many data scientists feel efficiency with Pandas is the most useful and practical skill they have, because it allows you to progress quickly in any project you have.\n",
    "\n",
    "If you'd like to apply your new skills to examining geospatial data, you're encouraged to check out our **[Geospatial Analysis](https://www.kaggle.com/learn/geospatial-analysis)** micro-course.\n",
    "\n",
    "You can also take advantage of your Pandas skills by entering a **[Kaggle Competition](https://www.kaggle.com/competitions)** or by answering a question you find interesting using **[Kaggle Datasets](https://www.kaggle.com/datasets)**."
   ]
  },
  {
   "cell_type": "markdown",
   "id": "aa848d6d",
   "metadata": {
    "papermill": {
     "duration": 0.006546,
     "end_time": "2023-04-20T11:26:56.238596",
     "exception": false,
     "start_time": "2023-04-20T11:26:56.232050",
     "status": "completed"
    },
    "tags": []
   },
   "source": [
    "---\n",
    "\n",
    "\n",
    "\n",
    "\n",
    "*Have questions or comments? Visit the [course discussion forum](https://www.kaggle.com/learn/pandas/discussion) to chat with other learners.*"
   ]
  }
 ],
 "metadata": {
  "kernelspec": {
   "display_name": "Python 3",
   "language": "python",
   "name": "python3"
  },
  "language_info": {
   "codemirror_mode": {
    "name": "ipython",
    "version": 3
   },
   "file_extension": ".py",
   "mimetype": "text/x-python",
   "name": "python",
   "nbconvert_exporter": "python",
   "pygments_lexer": "ipython3",
   "version": "3.7.12"
  },
  "papermill": {
   "default_parameters": {},
   "duration": 18.816228,
   "end_time": "2023-04-20T11:26:57.072085",
   "environment_variables": {},
   "exception": null,
   "input_path": "__notebook__.ipynb",
   "output_path": "__notebook__.ipynb",
   "parameters": {},
   "start_time": "2023-04-20T11:26:38.255857",
   "version": "2.4.0"
  }
 },
 "nbformat": 4,
 "nbformat_minor": 5
}
